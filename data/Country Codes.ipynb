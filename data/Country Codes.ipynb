{
 "cells": [
  {
   "cell_type": "markdown",
   "metadata": {},
   "source": [
    "This is the notebook used to create the country code reference, matching the country string names in BW to the proper ISO3166-1-Alpha-3 code.\n",
    "\n",
    "I use historic country codes here for Burma, East/West Germany, Soviet Union, etc. For a map that spans decades but shows modern borders, it might be a safe bet to group some countries under modern parallels, like `(\"East Germany\", \"DEU\"), (\"West Berlin\", \"DEU\"), (\"Burma\", \"MMR\")`. I wouldn't normalize formerly joined countries (e.g. don't choose a modern country to point Serbia and Montenegro or Chekoslavakia too) except perhaps `('Soviet Union', 'RUS')`.\n",
    "\n",
    "Currently Republic of China is under Taiwan, which is accurate in the modern day but likely misrepresentative in pre-revolution times."
   ]
  },
  {
   "cell_type": "code",
   "execution_count": null,
   "metadata": {
    "collapsed": false,
    "scrolled": true
   },
   "outputs": [],
   "source": [
    "import bwypy\n",
    "import pandas as pd\n",
    "bwypy.set_options(database='Bookworm2016', endpoint='https://bookworm.htrc.illinois.edu/cgi-bin/dbbindings.py')\n",
    "bw = bwypy.BWQuery(verify_fields=False)\n",
    "\n",
    "# Grab all the countries in BW\n",
    "bw.counttype = ['TextCount']\n",
    "bw.search_limits = { 'publication_country__id': {'$lt': 300} }\n",
    "bw.groups = ['publication_country']\n",
    "results = bw.run()\n",
    "df = results.frame(index=False, drop_unknowns=True)\n",
    "df.head()\n",
    "\n",
    "# A pretty comprehensive list from Github\n",
    "country_codes = (pd.read_csv('https://raw.githubusercontent.com/datasets/country-codes/master/data/country-codes.csv')\n",
    "                 .rename(columns={'official_name_en':'publication_country', 'ISO3166-1-Alpha-3':'code'}))\n",
    "\n",
    "# Fold the country names\n",
    "a = pd.merge(df, country_codes[['name','code']], left_on='publication_country', right_on='name')[['publication_country', 'code']]\n",
    "b = pd.merge(df, country_codes[['publication_country','code']])[['publication_country', 'code']]\n",
    "c = pd.DataFrame([('USA', 'USA'), ('United States', 'USA'),\n",
    "                  ('United Kingdom', 'GBR'),\n",
    "                  ('Republic of China', 'TWN'),\n",
    "                  ('Soviet Union', 'SUN'),\n",
    "                  ('Democratic Republic of Congo', 'CON'),\n",
    "                  (\"East Germany\", \"DDR\"),\n",
    "                  (\"West Berlin\", \"DEU\"),\n",
    "                  (\"Republic of Georgia\", \"GEO\"),\n",
    "                  (\"Burma\", \"BUR\"),\n",
    "                  ('Serbia and Montenegro', 'SCG'),\n",
    "                  ('Czechoslovakia', 'CSK'),\n",
    "                  ('Armenia (Republic)', 'ARM'),\n",
    "                  ('Macao', 'MAC')\n",
    "                  ],\n",
    "                 columns=['publication_country','code'])\n",
    "\n",
    "country_codes_df = pd.concat([a,b,c]).drop_duplicates()\n",
    "remaining_uncoded = df[~df.publication_country.isin(country_codes_df.publication_country)]"
   ]
  },
  {
   "cell_type": "code",
   "execution_count": null,
   "metadata": {
    "collapsed": false
   },
   "outputs": [],
   "source": [
    "country_codes_df.to_csv('data/country_codes.csv', index=False)"
   ]
  }
 ],
 "metadata": {
  "kernelspec": {
   "display_name": "Python 3",
   "language": "python",
   "name": "python3"
  },
  "language_info": {
   "codemirror_mode": {
    "name": "ipython",
    "version": 3
   },
   "file_extension": ".py",
   "mimetype": "text/x-python",
   "name": "python",
   "nbconvert_exporter": "python",
   "pygments_lexer": "ipython3",
   "version": "3.5.1"
  }
 },
 "nbformat": 4,
 "nbformat_minor": 2
}
